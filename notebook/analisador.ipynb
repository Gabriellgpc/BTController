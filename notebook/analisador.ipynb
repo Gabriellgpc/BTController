{
 "cells": [
  {
   "cell_type": "raw",
   "metadata": {},
   "source": [
    "# some configs for pyplot\n",
    "# https://stackoverflow.com/questions/332289/how-do-you-change-the-size-of-figures-drawn-with-matplotlib"
   ]
  },
  {
   "cell_type": "code",
   "execution_count": 1,
   "metadata": {},
   "outputs": [],
   "source": [
    "experimento = 'experimento_02'\n",
    "sp_str      = '50'"
   ]
  },
  {
   "cell_type": "code",
   "execution_count": 2,
   "metadata": {},
   "outputs": [],
   "source": [
    "%rm *.eps\n",
    "# %ls ../etc"
   ]
  },
  {
   "cell_type": "code",
   "execution_count": 5,
   "metadata": {},
   "outputs": [],
   "source": [
    "from scipy.optimize import curve_fit\n",
    "import matplotlib.pyplot as plt\n",
    "import numpy as np\n",
    "import pandas as pd"
   ]
  },
  {
   "cell_type": "code",
   "execution_count": 6,
   "metadata": {},
   "outputs": [
    {
     "name": "stdout",
     "output_type": "stream",
     "text": [
      "Matplotlib Version:3.3.3\n",
      "Numpy Version:1.19.5\n",
      "Pandas Version:1.2.0\n",
      "Scipy Version:1.6.0\n"
     ]
    }
   ],
   "source": [
    "import matplotlib\n",
    "import scipy\n",
    "print('Matplotlib Version:{}'.format(matplotlib.__version__))\n",
    "print('Numpy Version:{}'.format(np.__version__))\n",
    "print('Pandas Version:{}'.format(pd.__version__))\n",
    "print('Scipy Version:{}'.format(scipy.__version__))"
   ]
  },
  {
   "cell_type": "code",
   "execution_count": null,
   "metadata": {},
   "outputs": [],
   "source": [
    "motor_d = pd.read_csv('../etc/motor_direito_'+sp_str+ '_'+experimento+ '.csv')\n",
    "motor_e = pd.read_csv('../etc/motor_esquerdo_'+sp_str+'_'+experimento+'.csv')\n",
    "\n",
    "motor_d_c = pd.read_csv('../etc/control_motor_direito_'+sp_str+ '_'+experimento+ '.csv')\n",
    "motor_e_c = pd.read_csv('../etc/control_motor_esquerdo_'+sp_str+'_'+experimento+'.csv')\n",
    "\n",
    "sp = motor_e_c['SET_POINT'][0]\n",
    "\n",
    "t  = motor_e['TIME']\n",
    "we_raw = motor_e['OMEGA_RAW'] \n",
    "wd_raw = motor_d['OMEGA_RAW'] \n",
    "\n",
    "we = motor_e['OMEGA_FILTERED'] \n",
    "wd = motor_d['OMEGA_FILTERED'] \n",
    "\n",
    "t_c = motor_e_c['TIME']\n",
    "we_c= motor_e_c['OMEGA_FILTERED'] \n",
    "wd_c= motor_d_c['OMEGA_FILTERED'] \n",
    "\n",
    "wref = motor_e_c['SET_POINT']*motor_e_c['OMEGA_MAX']\n",
    "\n",
    "\n",
    "R_e  = motor_e['OMEGA_RAW'][motor_e['TIME'] >= motor_e['TAU']*10].var()\n",
    "R_d  = motor_d['OMEGA_RAW'][motor_d['TIME'] >= motor_d['TAU']*10].var()"
   ]
  },
  {
   "cell_type": "code",
   "execution_count": null,
   "metadata": {},
   "outputs": [],
   "source": [
    "def func(t,K,Tm):\n",
    "    return K*(1.0 - np.exp(-t/Tm))"
   ]
  },
  {
   "cell_type": "code",
   "execution_count": null,
   "metadata": {},
   "outputs": [],
   "source": [
    "we_opt, _   = curve_fit(func, t, we, bounds=([-10000., 0.01], [10000., 1000]))\n",
    "we_c_opt,_ = curve_fit(func, t, we_c, bounds=([-10000., 0.01], [10000., 1000]))\n",
    "\n",
    "wd_opt,_   = curve_fit(func, t, wd, bounds=([-10000., 0.01], [10000., 1000]))\n",
    "wd_c_opt,_ = curve_fit(func, t, wd_c, bounds=([-10000., 0.01], [10000., 1000]))\n",
    "\n",
    "\n",
    "we_opt_raw    = [motor_e['K'][0], motor_e['TAU'][0]]\n",
    "wd_opt_raw    = [motor_d['K'][0], motor_d['TAU'][0]]\n",
    "\n",
    "we_c_opt_raw,_  = curve_fit(func, t, motor_d_c['OMEGA_RAW'], bounds=([-10000., 0.01], [10000., 1000]))\n",
    "wd_c_opt_raw,_  = curve_fit(func, t, motor_d_c['OMEGA_RAW'], bounds=([-10000., 0.01], [10000., 1000]))"
   ]
  },
  {
   "cell_type": "code",
   "execution_count": null,
   "metadata": {},
   "outputs": [],
   "source": [
    "R_e"
   ]
  },
  {
   "cell_type": "code",
   "execution_count": null,
   "metadata": {},
   "outputs": [],
   "source": [
    "R_d"
   ]
  },
  {
   "cell_type": "code",
   "execution_count": null,
   "metadata": {},
   "outputs": [],
   "source": [
    "# data = np.array([\n",
    "# [1905.72803 , 1.00000],\n",
    "# [1821.21313 , 0.95750],\n",
    "# [1729.47572 , 0.91500],\n",
    "# [1653.03481 , 0.87250],\n",
    "# [1616.04560 , 0.83000],\n",
    "# [1580.67555 , 0.78750],\n",
    "# [1480.13788 , 0.74500],\n",
    "# [1376.98560 , 0.70250],\n",
    "# [1230.54941 , 0.66000],\n",
    "# [1111.08493 , 0.61750],\n",
    "# [989.78975 , 0.57500],\n",
    "# [877.41730 , 0.53250],\n",
    "# [785.88934 , 0.49000],\n",
    "# [678.45646 , 0.44750],\n",
    "# [604.61752 , 0.40500],\n",
    "# [507.48609 , 0.36250],\n",
    "# [371.34665 , 0.32000],\n",
    "# [210.34399 , 0.27750],\n",
    "# [90.20955 , 0.23500],\n",
    "# [0.00000 , 0.19250]])\n",
    "# x = data[:,0]\n",
    "# y = data[:,1]"
   ]
  },
  {
   "cell_type": "code",
   "execution_count": null,
   "metadata": {},
   "outputs": [],
   "source": [
    "# def _calcTau(t,w, wss):\n",
    "#     Sxx = 0.0\n",
    "#     Sxy = 0.0\n",
    "#     y = 0.0\n",
    "#     for i in range(len(t)):\n",
    "#         if (abs(w[i]) > 0.2*abs(wss)) and (abs(w[i]) < 0.8*abs(wss)):\n",
    "#             y = -np.log(1.0 - w[i]/wss);\n",
    "#             Sxy+= t[i]*y;\n",
    "#             Sxx+= t[i]*t[i];\n",
    "#     return Sxx/Sxy\n",
    "\n",
    "# def line(x, a,b):\n",
    "#     return x*a + b\n",
    "\n",
    "# pop, pcov = curve_fit(line, x, y, bounds=([0, 0], [np.inf, 1.0]))\n",
    "# print(pop,pcov)\n",
    "\n",
    "# plt.plot(x,y, label='data')\n",
    "# plt.plot(x,line(x,pop[0], pop[1]), '--k')\n",
    "# plt.ylim([0,1])\n",
    "# plt.show()"
   ]
  },
  {
   "cell_type": "code",
   "execution_count": null,
   "metadata": {},
   "outputs": [],
   "source": [
    "# def _calcTau(t,w, wss):\n",
    "#     Sxx = 0.0\n",
    "#     Sxy = 0.0\n",
    "#     y = 0.0\n",
    "#     for i in range(len(t)):\n",
    "#         if (abs(w[i]) > 0.2*abs(wss)) and (abs(w[i]) < 0.8*abs(wss)):\n",
    "#             y = -np.log(1.0 - w[i]/wss);\n",
    "#             Sxy+= t[i]*y;\n",
    "#             Sxx+= t[i]*t[i];\n",
    "#     return Sxx/Sxy\n",
    "\n",
    "# data = np.array([[0.00001, 0.00000],\n",
    "# [0.00419, 0.00000],\n",
    "# [0.00919, 1.39470],\n",
    "# [0.01418, 1.40516],\n",
    "# [0.01919, 325.16614],\n",
    "# [0.02419, 325.16614],\n",
    "# [0.02918, 414.23954],\n",
    "# [0.03419, 709.00308],\n",
    "# [0.03918, 841.12253],\n",
    "# [0.04419, 953.29773]])\n",
    "\n",
    "# x = data[:,0]\n",
    "# y = data[:,1]"
   ]
  },
  {
   "cell_type": "markdown",
   "metadata": {},
   "source": [
    "## TESTAGEM DA CALIBRAÇÃO"
   ]
  },
  {
   "cell_type": "code",
   "execution_count": null,
   "metadata": {},
   "outputs": [],
   "source": [
    "motor_e.head()"
   ]
  },
  {
   "cell_type": "code",
   "execution_count": null,
   "metadata": {},
   "outputs": [],
   "source": [
    "motor_d.head()"
   ]
  },
  {
   "cell_type": "code",
   "execution_count": null,
   "metadata": {},
   "outputs": [],
   "source": [
    "print('Motor Esquerdo')\n",
    "print('| Km | Tm | R | Kp |')\n",
    "print('| {:.2f} | {:.2e} | {:.2f} | {:.2e}|'.format(motor_e['K'][0],  motor_e['TAU'][0], R_e, motor_e['FORWARD_KP'][0]))"
   ]
  },
  {
   "cell_type": "code",
   "execution_count": null,
   "metadata": {
    "scrolled": true
   },
   "outputs": [],
   "source": [
    "print('Motor Direito')\n",
    "print('| Km | Tm | R | Kp |')\n",
    "print('| {:.2f} | {:.2e} | {:.2f} | {:.2e}|'.format(motor_d['K'][0],  motor_d['TAU'][0], R_d, motor_d['FORWARD_KP'][0]))"
   ]
  },
  {
   "cell_type": "code",
   "execution_count": null,
   "metadata": {},
   "outputs": [],
   "source": [
    "def reta(x, a, b):\n",
    "    return a*x + b "
   ]
  },
  {
   "cell_type": "code",
   "execution_count": null,
   "metadata": {},
   "outputs": [],
   "source": [
    "# Curva PWM x Omega\n",
    "# Motor esquerdo\n",
    "wmax = motor_e['OMEGA_MAX'][0]\n",
    "w    = np.linspace(0,wmax, 10)\n",
    "ae_f = motor_e['FORWARD_ANG_COEF'][0]\n",
    "be_f = motor_e['FORWARD_LIN_COEF'][0]\n",
    "ae_b = motor_e['BACK_ANG_COEF'][0]\n",
    "be_b = motor_e['BACK_LIN_COEF'][0]\n",
    "\n",
    "ue_f = reta(w,ae_f, be_f)\n",
    "ue_b = reta(-w,ae_b, be_b)\n",
    "\n",
    "plt.figure(figsize=(8,4))\n",
    "# plt.title(r'Curva $u(\\omega_{ss})$ do Motor Esquerdo')\n",
    "\n",
    "plt.plot(w, ue_f, 'b', label= r'$u_{f}(\\omega) = %.2e\\omega + %.2f$'%(ae_f, be_f))\n",
    "plt.plot(-w, ue_b, 'r',label= r'$u_{b}(\\omega) = %.2e\\omega  %.2f$'%(ae_b, be_b))\n",
    "\n",
    "plt.ylabel('PWM',fontsize=14)\n",
    "plt.xlabel(r'$\\omega_{ss}$ [rad/s]',fontsize=14)\n",
    "plt.grid(True)\n",
    "plt.ylim([-1.1,1.1])\n",
    "plt.xlim([-wmax-100,wmax+100])\n",
    "plt.legend(prop={'size':14})\n",
    "\n",
    "# plt.grid(linestyle=\"--\", linewidth=0.5, color='.25', zorder=-10)\n",
    "\n",
    "plt.savefig('curva_feedforward_esquerdo' + sp_str + '.eps', format='eps')\n",
    "plt.show()"
   ]
  },
  {
   "cell_type": "code",
   "execution_count": null,
   "metadata": {},
   "outputs": [],
   "source": [
    "# Curva PWM x Omega\n",
    "# Motor direito\n",
    "wmax = motor_d['OMEGA_MAX'][0]\n",
    "w    = np.linspace(0,wmax, 10)\n",
    "ad_f = motor_d['FORWARD_ANG_COEF'][0]\n",
    "bd_f = motor_d['FORWARD_LIN_COEF'][0]\n",
    "ad_b = motor_d['BACK_ANG_COEF'][0]\n",
    "bd_b = motor_d['BACK_LIN_COEF'][0]\n",
    "\n",
    "ud_f = reta(w,ad_f, bd_f)\n",
    "ud_b = reta(-w,ad_b, bd_b)\n",
    "\n",
    "plt.figure(figsize=(8,4))\n",
    "# plt.title(r'Curva $u(\\omega_{ss})$ do Motor Direito')\n",
    "\n",
    "plt.plot(w, ud_f, 'b', label= r'$u_{f}(\\omega) = %.2e\\omega + %.2f$'%(ad_f, bd_f))\n",
    "plt.plot(-w, ud_b, 'r',label= r'$u_{b}(\\omega) = %.2e\\omega  %.2f$'%(ad_b, bd_b))\n",
    "\n",
    "plt.ylabel('PWM',fontsize=14)\n",
    "plt.xlabel(r'$\\omega_{ss}$ [rad/s]',fontsize=14)\n",
    "plt.grid(True)\n",
    "plt.ylim([-1.1,1.1])\n",
    "plt.xlim([-wmax-100,wmax+100])\n",
    "plt.legend(prop={'size':14})\n",
    "\n",
    "\n",
    "# plt.grid(linestyle=\"--\", linewidth=0.5, color='.25', zorder=-10)\n",
    "\n",
    "plt.savefig('curva_feedforward_direito' + sp_str + '.eps', format='eps')\n",
    "plt.show()"
   ]
  },
  {
   "cell_type": "code",
   "execution_count": null,
   "metadata": {
    "scrolled": false
   },
   "outputs": [],
   "source": [
    "figsize=(10,5)\n",
    "# plt.title('Comportamento Esperado vs Velocidade Medida')\n",
    "plt.plot(t, we_raw, '-b', label=r'$\\omega_{E_{medido}}$')\n",
    "plt.plot(t, func(t,sp*we_opt_raw[0],we_opt_raw[1]), '--k', label=r'$\\omega_E(t) = %.2f\\left( 1 - e^{-t/%.2f}\\right)$'%(sp*we_opt_raw[0],we_opt_raw[1]))\n",
    "\n",
    "\n",
    "\n",
    "plt.xlim([0, motor_e_c['TIME'].max()])\n",
    "plt.ylabel(r'$rad.s^{-1}$',fontsize=14)\n",
    "plt.xlabel(r'$t$ [s]',fontsize=14)\n",
    "plt.grid(True)\n",
    "plt.legend(prop={'size':14})\n",
    "\n",
    "plt.savefig('regressao_vs_medido_esquerdo' + sp_str + '.eps', format='eps')\n",
    "plt.show()\n",
    "\n",
    "figsize=(10,5)\n",
    "# plt.title('Comportamento Esperado vs Velocidade Medida')\n",
    "plt.plot(t, wd_raw, '-g', label=r'$\\omega_{D_{medido}}$')\n",
    "plt.plot(t, func(t,sp*wd_opt_raw[0],wd_opt_raw[1]), '--k', label=r'$\\omega_D(t) = %.2f\\left( 1 - e^{-t/%.2f}\\right)$'%(sp*wd_opt_raw[0],wd_opt_raw[1]))\n",
    "\n",
    "plt.xlim([0, motor_e_c['TIME'].max()])\n",
    "plt.ylabel(r'$rad.s^{-1}$',fontsize=14)\n",
    "plt.xlabel(r'$t$ [s]',fontsize=14)\n",
    "plt.grid(True)\n",
    "plt.legend(prop={'size':14})\n",
    "\n",
    "plt.savefig('regressao_vs_medido_direito' + sp_str + '.eps', format='eps')\n",
    "plt.show()"
   ]
  },
  {
   "cell_type": "markdown",
   "metadata": {},
   "source": [
    "## TESTAGEM DO FILTRO"
   ]
  },
  {
   "cell_type": "markdown",
   "metadata": {},
   "source": [
    "## Teste offline: Filtro de Kalman"
   ]
  },
  {
   "cell_type": "code",
   "execution_count": null,
   "metadata": {
    "scrolled": true
   },
   "outputs": [],
   "source": [
    "# plt.figure(num=1,figsize=(15,5))\n",
    "# plt.title('Função de aproximação para o motor Esquerdo e Ganho do sistema filtrado')\n",
    "# plt.plot(t, motor_e['OMEGA_RAW'], '-y', label=r'$\\omega_{e_{raw}}$')\n",
    "# plt.plot(t, we, '-b', label=r'$\\omega_e$')\n",
    "# plt.plot(t, func(t,Ke,Tme), '--k', label=r'$\\omega(t) = %.2f\\left( 1 - e^{-t/%.2f}\\right)$'%(Ke,Tme))\n",
    "# # plt.plot(t, func(t,x_k,motor_e['TAU'][0]), '--g', label=r'$\\omega_{cal}(t) = %.2f\\left( 1 - e^{-t/%.2f}\\right)$'%(x_k,motor_e['TAU'][0]))\n",
    "# plt.plot(t, func(t,motor_e['SET_POINT']*motor_e['K'][0],motor_e['TAU'][0]), '--r', label=r'$\\omega_{cal_{orig}}(t) = %.2f\\left( 1 - e^{-t/%.2f}\\right)$'%(motor_e['K'][0]*motor_e['SET_POINT'][0],motor_e['TAU'][0]))\n",
    "\n",
    "# plt.xlim([0, motor_e_c['TIME'].max()])\n",
    "# plt.ylabel(r'$rad.s^{-1}$')\n",
    "# plt.xlabel(r'$t$ [s]')\n",
    "# plt.grid(True)\n",
    "# plt.legend()\n",
    "# plt.show()"
   ]
  },
  {
   "cell_type": "code",
   "execution_count": null,
   "metadata": {},
   "outputs": [],
   "source": [
    "p0 = 100\n",
    "r  = 1200\n",
    "q  = 10"
   ]
  },
  {
   "cell_type": "code",
   "execution_count": null,
   "metadata": {},
   "outputs": [],
   "source": [
    "# # inicialização\n",
    "# # r = motor_e['OMEGA_RAW'][t >= Tme*5].var() #incerteza da medição\n",
    "# #############################################################\n",
    "# w_mean  = np.zeros_like(t)    #omega predito\n",
    "# w_check = np.zeros_like(t)    #omega predito\n",
    "# w_hat   = np.zeros_like(t)    #melhor estimativa de oemga (omega filtrado)\n",
    "# p_check = np.zeros_like(t)    #incerteza de omega\n",
    "# p_hat   = np.zeros_like(t)\n",
    "# K = np.zeros_like(t)          #ganho do filtro\n",
    "\n",
    "# p_check[0] = p_hat[0] = p0\n",
    "# ##############################################################\n",
    "# #input\n",
    "# Tm= motor_e['TAU'][0]\n",
    "# Kgain= motor_e['K'][0]\n",
    "# u = motor_e['SET_POINT'][0]*Kgain\n",
    "\n",
    "# for i in range(1, len(t)):\n",
    "#     # medição\n",
    "#     wz = motor_e['OMEGA_RAW'][i]\n",
    "#     w_mean[i] = (w_mean[i-1] + wz)/2.0\n",
    "\n",
    "#     predição\n",
    "#     w_check[i] = w_hat[i-1] + (u - w_hat[i-1])*(1.0 - np.exp(-(t[i]- t[i-1])/Tm))\n",
    "#     p_check[i] = p_hat[i-1] + q\n",
    "\n",
    "#     # atualização\n",
    "#     K[i] = p_check[i]/(p_check[i]+r)\n",
    "#     w_hat[i] = w_check[i] + K[i]*(wz - w_check[i])\n",
    "#     p_hat[i] = (1 - K[i])*p_check[i]"
   ]
  },
  {
   "cell_type": "code",
   "execution_count": null,
   "metadata": {
    "scrolled": false
   },
   "outputs": [],
   "source": [
    "# plt.figure(figsize=(10, 5), dpi=100)\n",
    "\n",
    "# # plt.plot(t, w_check, '-b', label=r'$\\check{\\omega}(t)$')\n",
    "\n",
    "# plt.plot(t, w_hat, '-g', label=r'$\\hat{\\omega}(t)$')\n",
    "\n",
    "# plt.plot(t, motor_e['OMEGA_RAW'], '-k', label=r'$\\omega_{raw}(t)$')\n",
    "\n",
    "# # plt.plot(t, w_mean, '-y', label=r'$\\omega_{mean}(t)$')\n",
    "\n",
    "# # plt.plot(t, motor_e['OMEGA_FILTERED'], '-r', label=r'$\\omega_{filtered}(t)$')\n",
    "\n",
    "\n",
    "# plt.title('Teste filtro de Kalman para o Motor Esquerdo')\n",
    "# plt.xlim([0, motor_e_c['TIME'].max()])\n",
    "# plt.ylabel(r'$rad/s$');\n",
    "# plt.xlabel(r'$t(s)$');\n",
    "# plt.legend();\n",
    "# plt.grid(True)\n",
    "# plt.show();"
   ]
  },
  {
   "cell_type": "code",
   "execution_count": null,
   "metadata": {},
   "outputs": [],
   "source": [
    "# # inicialização\n",
    "# # p0 = 60.0\n",
    "# # r = motor_d['OMEGA_RAW'][t >= Tme*5].var() #incerteza da medição\n",
    "# # q = 10  #bias da incerteza (procurar uma definição mais adequada)\n",
    "# #############################################################\n",
    "# w_mean  = np.zeros_like(t)    #omega predito\n",
    "# w_check = np.zeros_like(t)    #omega predito\n",
    "# w_hat   = np.zeros_like(t)    #melhor estimativa de oemga (omega filtrado)\n",
    "# p_check = np.zeros_like(t)    #incerteza de omega\n",
    "# p_hat   = np.zeros_like(t)\n",
    "# K = np.zeros_like(t)          #ganho do filtro\n",
    "\n",
    "# p_check[0] = p_hat[0] = p0\n",
    "# ##############################################################\n",
    "# #input\n",
    "# Tm= motor_d['TAU'][0]\n",
    "# Kgain= motor_d['K'][0]\n",
    "# u = motor_d['SET_POINT'][0]*Kgain\n",
    "\n",
    "# for i in range(1, len(t)):\n",
    "#     # medição\n",
    "#     wz = motor_d['OMEGA_RAW'][i]\n",
    "#     w_mean[i] = (w_mean[i-1] + wz)/2.0\n",
    "\n",
    "#     # predição\n",
    "#     w_check[i] = w_hat[i-1] + (u - w_hat[i-1])*(1.0 - np.exp(-(t[i]- t[i-1])/Tm))\n",
    "#     p_check[i] = p_hat[i-1] + q\n",
    "\n",
    "#     # atualização\n",
    "#     K[i] = p_check[i]/(p_check[i]+r)\n",
    "#     w_hat[i] = w_check[i] + K[i]*(wz - w_check[i])\n",
    "#     p_hat[i] = (1 - K[i])*p_check[i]"
   ]
  },
  {
   "cell_type": "code",
   "execution_count": null,
   "metadata": {},
   "outputs": [],
   "source": [
    "# plt.figure(figsize=(10, 5), dpi=100)\n",
    "\n",
    "# # plt.plot(t, w_check, '-b', label=r'$\\check{\\omega}(t)$')\n",
    "\n",
    "# plt.plot(t, w_hat, '-g', label=r'$\\hat{\\omega}(t)$')\n",
    "\n",
    "# plt.plot(t, wd_raw, '-k', label=r'$\\omega_{raw}(t)$')\n",
    "\n",
    "# plt.plot(t, w_mean, '-y', label=r'$\\omega_{mean}(t)$')\n",
    "\n",
    "# plt.plot(t, wd, '-r', label=r'$\\omega_{filtered}(t)$')\n",
    "\n",
    "# plt.title('Teste filtro de Kalman para o Motor Direito')\n",
    "# plt.xlim([0, motor_e_c['TIME'].max()])\n",
    "# plt.ylabel(r'$rad/s$');\n",
    "# plt.xlabel(r'$t(s)$');\n",
    "# plt.legend();\n",
    "# plt.grid(True)\n",
    "# plt.show();"
   ]
  },
  {
   "cell_type": "code",
   "execution_count": null,
   "metadata": {
    "scrolled": false
   },
   "outputs": [],
   "source": [
    "# Teste Com vs Sem Filtro\n",
    "# Sem controlador\n",
    "plt.figure(figsize=(10,5))\n",
    "# plt.title('Com Filtro vs Sem Filtro')\n",
    "\n",
    "plt.plot(t, we_raw, '-b', label=r'$\\omega_{E_{medido}}$')\n",
    "plt.plot(t, we, '--b', label=r'$\\hat{\\omega}_{E}$')\n",
    "\n",
    "plt.xlim([0, motor_e['TIME'].max()])\n",
    "plt.ylabel(r'$rad.s^{-1}$',fontsize=14)\n",
    "plt.xlabel(r'$t$ [s]',fontsize=14)\n",
    "plt.grid(True)\n",
    "plt.legend(prop={'size':14})\n",
    "\n",
    "plt.savefig('filtro_vs_sem_filtro_esquerdo' + sp_str + '.eps', format='eps')\n",
    "plt.show()\n",
    "\n",
    "plt.figure(figsize=(10,5))\n",
    "# plt.title('Com Filtro vs Sem Filtro')\n",
    "\n",
    "plt.plot(t, wd_raw, '-g', label=r'$\\omega_{D_{medido}}$')\n",
    "plt.plot(t, wd, '--g', label=r'$\\hat{\\omega}_{D}$')\n",
    "\n",
    "plt.xlim([0, motor_e['TIME'].max()])\n",
    "plt.ylabel(r'$rad.s^{-1}$',fontsize=14)\n",
    "plt.xlabel(r'$t$ [s]',fontsize=14)\n",
    "plt.grid(True)\n",
    "plt.legend(prop={'size':14})\n",
    "\n",
    "\n",
    "plt.savefig('filtro_vs_sem_filtro_direito' + sp_str + '.eps', format='eps')\n",
    "plt.show()"
   ]
  },
  {
   "cell_type": "markdown",
   "metadata": {},
   "source": [
    "## TESTAGEM DO Controlador"
   ]
  },
  {
   "cell_type": "markdown",
   "metadata": {},
   "source": [
    "### CONTROLE COM FILTRO VS CONTROLE SEM FILTRO"
   ]
  },
  {
   "cell_type": "code",
   "execution_count": null,
   "metadata": {},
   "outputs": [],
   "source": [
    "# Esse grafico seria informativo se fosse o controle usando o filtro vs o controle sem usar o filtro\n",
    "\n",
    "# plt.figure(figsize=(15,5))\n",
    "# plt.title('Ambos os motores | controlador ligado | Com Filtro x Sem Filtro')\n",
    "# plt.plot(t_c, we_c, '--b', label=r'$\\omega_e$')\n",
    "# plt.plot(t_c, wd_c, '--g', label=r'$\\omega_d$')\n",
    "# plt.plot(t_c, motor_e_c['OMEGA_RAW'], '-b', label=r'$\\omega_{e_{raw}}$')\n",
    "# plt.plot(t_c, motor_d_c['OMEGA_RAW'], '-g', label=r'$\\omega_{d_{raw}}$')\n",
    "\n",
    "# plt.xlim([0, motor_e_c['TIME'].max()])\n",
    "# plt.ylabel(r'$rad.s^{-1}$')\n",
    "# plt.xlabel(r'$t$ [s]')\n",
    "# plt.grid(True)\n",
    "# plt.legend()\n",
    "# plt.show()"
   ]
  },
  {
   "cell_type": "markdown",
   "metadata": {},
   "source": [
    "### CONTROLADOR VS SEM CONTROLADOR"
   ]
  },
  {
   "cell_type": "code",
   "execution_count": null,
   "metadata": {},
   "outputs": [],
   "source": [
    "plt.figure(figsize=(8,4))\n",
    "# plt.title('Com Controlador vs Sem Controlador')\n",
    "\n",
    "plt.plot(t_c, we_c, '--b', label=r'$\\omega_{E_{control}}(t) = %.2f(1 - e^{-t/%.2f})$'%(sp*we_c_opt[0],we_c_opt[1]))\n",
    "plt.plot(t_c, wd_c, '--g', label=r'$\\omega_{D_{control}}(t) = %.2f(1 - e^{-t/%.2f})$'%(sp*wd_c_opt[0],wd_c_opt[1]))\n",
    "\n",
    "plt.plot(t_c, we, '-b', label=r'$\\omega_{E}(t) = %.2f(1 - e^{-t/%.2f})$'%(sp*we_opt[0],we_opt[1]))\n",
    "plt.plot(t_c, wd, '-g', label=r'$\\omega_{D}(t) = %.2f(1 - e^{-t/%.2f})$'%(sp*wd_opt[0],wd_opt[1]))\n",
    "\n",
    "plt.plot(t_c, wref, '-k', label=r'$\\omega_{ref} = %.2f rad.s^{-1}$'%(wref[0]))\n",
    "\n",
    "plt.xlim([0, motor_e_c['TIME'].max()])\n",
    "plt.ylabel(r'$rad.s^{-1}$',fontsize=14)\n",
    "plt.xlabel(r'$t$ [s]',fontsize=14)\n",
    "plt.grid(True)\n",
    "plt.legend(prop={'size':14})\n",
    "\n",
    "plt.savefig('controlador_vs_sem_controlador' + sp_str + '.eps', format='eps')\n",
    "plt.show()"
   ]
  },
  {
   "cell_type": "code",
   "execution_count": null,
   "metadata": {},
   "outputs": [],
   "source": [
    "plt.figure(figsize=(8,4))\n",
    "# plt.title('Antes vs Depois')\n",
    "\n",
    "plt.plot(t_c, we_c, '--b', label=r'$\\omega_{E}(t) = %.2f(1 - e^{-t/%.2f})$'%(sp*we_opt[0],we_opt[1]))\n",
    "plt.plot(t_c, wd_c, '--g', label=r'$\\omega_{D}(t) = %.2f(1 - e^{-t/%.2f})$'%(sp*wd_opt[0],wd_opt[1]))\n",
    "\n",
    "plt.plot(t_c, we_raw, '-b', label=r'$\\omega_{{E}}(t) = %.2f(1 - e^{-t/%.2f})$'%(sp*we_opt_raw[0],we_opt_raw[1]))\n",
    "plt.plot(t_c, wd_raw, '-g', label=r'$\\omega_{{D}}(t) = %.2f(1 - e^{-t/%.2f})$'%(sp*wd_opt_raw[0],wd_opt_raw[1]))\n",
    "\n",
    "plt.plot(t_c, wref, '-k', label=r'$\\omega_{ref} = %.2f$ $rad.s^{-1}$'%(wref[0]))\n",
    "\n",
    "plt.xlim([0, motor_e_c['TIME'].max()])\n",
    "plt.ylabel(r'$rad.s^{-1}$', fontsize=14)\n",
    "plt.xlabel(r'$t$ [s]', fontsize=14)\n",
    "plt.grid(True)\n",
    "plt.legend(prop={'size':14})\n",
    "\n",
    "plt.savefig('antes_vs_depois' + sp_str + '.eps', format='eps')\n",
    "plt.show()"
   ]
  },
  {
   "cell_type": "markdown",
   "metadata": {},
   "source": [
    "# Ref. Teórico\n",
    "## Sistema(Planta):\n",
    "\\begin{equation}\n",
    "G(s) = \\frac{Y(s)}{U(s)} = \\frac{K}{T_ms + 1}\n",
    "\\end{equation}\n",
    "\n",
    "\\begin{equation}\n",
    "y(t) = K(1 - e^{-t/T_m})\n",
    "\\end{equation}\n",
    "\n",
    "\\begin{equation}\n",
    "\\omega(t) = u(t)K\\left( 1 - e^{-t/T_m} \\right); u(t) \\in \\left[-1, 1\\right]\n",
    "\\end{equation}\n",
    "\n",
    "## Filtro de Kalman\n",
    "### Sistema\n",
    "\\begin{equation}\n",
    "\\textbf{x}_k = F_x x_{k-1} + B_k u_k + w_k; w_k \\sim N(0, Q_k)\n",
    "\\end{equation}\n",
    "### Medição\n",
    "\\begin{equation}\n",
    "z_k = H_k x_k + v_k; v_k \\sim N(0, R_k)\n",
    "\\end{equation}\n",
    "\n",
    "### Predição\n",
    "$\\check{x}_k = F_k \\hat{x}_{k-1} + B_k u_k$\n",
    "\n",
    "$\\check{P}_k = F_k \\hat{P}_{k-1} F^T_k + Q_k$ \n",
    "### Atualização\n",
    "$K_k = \\check{P}_k H^T \\left( H_k \\check{P}_k H^T_k + R_k\\right)^{-1}$\n",
    "\n",
    "$\\hat{x}_k = \\check{x}_k + K_k\\left( z_k - H_k \\check{x}_k \\right)$\n",
    "\n",
    "$\\hat{P}_k = \\left(I - KH_k \\right)\\check{P}_k$\n",
    "\n",
    "## Filtro de Kalman para a nossa planta\n",
    "\\begin{cases}\n",
    "\\textbf{x}_k = \\left[ \\omega_k \\right]\\\\\n",
    "z_k = x_k = \\omega_k\\\\\n",
    "F_k = 1\\\\\n",
    "H_k = 1\n",
    "\\end{cases}\n",
    "### Medição\n",
    "\\begin{align*}\n",
    "z_k = \\omega_z = \\frac{N}{\\Delta t}.k\n",
    "\\end{align*}\n",
    "\n",
    "$N$: Números de pulsos;\n",
    "\n",
    "$k$: Constante para converter de quantidade de pulsos para $rad/s$.\n",
    "### Predição\n",
    "\\begin{align*}\n",
    "\\check{x}_k &= \\hat{x}_{k-1} + (u_k - \\hat{x}_{k-1}) \\left( 1 - e^{-\\frac{\\Delta t}{T_m}} \\right)\\\\\n",
    "\\check{x}_k &= \\hat{x}_{k-1} +  u^{'}_k \\left( 1 - e^{-\\frac{\\Delta t}{T_m}} \\right)\\\\\n",
    "\\check{P}_k &= \\hat{P}_{k-1} + Q_k\n",
    "\\end{align*}\n",
    "\n",
    "**Obs.:** $\\Delta t = t_f - t_0$. $\\Delta t$ é relativo ao sinal de entrada $u_k$, sendo $t_0$ o instante que o sinal é aplicado e $t_f$ o instante atual $k$.\n",
    "### Atualização\n",
    "\\begin{align*}\n",
    "K_k &= \\check{P}_k \\left( \\check{P}_k + R_k \\right)^{-1} = \\frac{\\check{P}_k}{\\check{P}_k + R_k}\\\\\n",
    "\\hat{x}_k &= \\check{x}_k + K_k \\left( z_k - \\check{x}_k \\right)\\\\\n",
    "\\hat{P}_k &= \\left( 1 - K_k \\right) \\check{P}_k\n",
    "\\end{align*}"
   ]
  }
 ],
 "metadata": {
  "kernelspec": {
   "display_name": "Python 3",
   "language": "python",
   "name": "python3"
  },
  "language_info": {
   "codemirror_mode": {
    "name": "ipython",
    "version": 3
   },
   "file_extension": ".py",
   "mimetype": "text/x-python",
   "name": "python",
   "nbconvert_exporter": "python",
   "pygments_lexer": "ipython3",
   "version": "3.8.5"
  }
 },
 "nbformat": 4,
 "nbformat_minor": 4
}
